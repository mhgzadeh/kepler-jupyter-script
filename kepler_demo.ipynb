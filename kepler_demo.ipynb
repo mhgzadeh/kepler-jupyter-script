{
 "cells": [
  {
   "cell_type": "code",
   "execution_count": 2,
   "id": "d3778a1c",
   "metadata": {},
   "outputs": [],
   "source": [
    "from keplergl import KeplerGl"
   ]
  },
  {
   "cell_type": "code",
   "execution_count": 3,
   "id": "153a49c7",
   "metadata": {},
   "outputs": [
    {
     "name": "stdout",
     "output_type": "stream",
     "text": [
      "User Guide: https://docs.kepler.gl/docs/keplergl-jupyter\n"
     ]
    }
   ],
   "source": [
    "map = KeplerGl(height=400)"
   ]
  },
  {
   "cell_type": "code",
   "execution_count": 5,
   "id": "d652bff6",
   "metadata": {},
   "outputs": [],
   "source": [
    "with open('gemeinden_simplify200.geojson', 'r') as f:\n",
    "    geojson = f.read()"
   ]
  },
  {
   "cell_type": "code",
   "execution_count": 6,
   "id": "32686575",
   "metadata": {},
   "outputs": [],
   "source": [
    "map.add_data(data=geojson, name='geojson')"
   ]
  },
  {
   "cell_type": "code",
   "execution_count": 14,
   "id": "6bbc7a22",
   "metadata": {},
   "outputs": [
    {
     "name": "stdout",
     "output_type": "stream",
     "text": [
      "Map saved to first_map2.html!\n"
     ]
    }
   ],
   "source": [
    "map.save_to_html(file_name='first_map2.html', read_only=True)"
   ]
  },
  {
   "cell_type": "code",
   "execution_count": 13,
   "id": "32b7c3d1",
   "metadata": {},
   "outputs": [
    {
     "data": {
      "application/vnd.jupyter.widget-view+json": {
       "model_id": "f2dc9949a7d144f0b659b91969225314",
       "version_major": 2,
       "version_minor": 0
      },
      "text/plain": [
       "KeplerGl(config={'version': 'v1', 'config': {'visState': {'filters': [], 'layers': [{'id': 'qx1eal', 'type': '…"
      ]
     },
     "metadata": {},
     "output_type": "display_data"
    }
   ],
   "source": [
    "map"
   ]
  },
  {
   "cell_type": "code",
   "execution_count": null,
   "id": "de0385a2",
   "metadata": {},
   "outputs": [],
   "source": []
  }
 ],
 "metadata": {
  "kernelspec": {
   "display_name": "Python 3 (ipykernel)",
   "language": "python",
   "name": "python3"
  },
  "language_info": {
   "codemirror_mode": {
    "name": "ipython",
    "version": 3
   },
   "file_extension": ".py",
   "mimetype": "text/x-python",
   "name": "python",
   "nbconvert_exporter": "python",
   "pygments_lexer": "ipython3",
   "version": "3.9.5"
  }
 },
 "nbformat": 4,
 "nbformat_minor": 5
}
